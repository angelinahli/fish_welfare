{
 "cells": [
  {
   "cell_type": "markdown",
   "metadata": {},
   "source": [
    "Now that we have a collection of information scraped from the FishEthoBase, it might be good to collect some supplemental information on each species, if possible. In particular, I'm interested in finding population number / catch number data on these species."
   ]
  },
  {
   "cell_type": "code",
   "execution_count": null,
   "metadata": {},
   "outputs": [],
   "source": [
    "with open(ETHO_INPUT_FP, \"r\") as datafile:\n",
    "    db_data = json.loads(datafile.read())\n",
    "\n",
    "db_data[0]\n",
    "\n",
    "def flatten_species_data(species_dict):\n",
    "    flattened = species_dict.copy() # shallow copy - delete etho scores section\n",
    "    scores = flattened.pop(\"etho_scores\") # removes the problematic etho_scores dictionary for parsing\n",
    "    for crit in scores:\n",
    "        for level in scores[crit]:\n",
    "            flat_name = \"{}_{}\".format(crit, level[:2]) # take first two chars per level name\n",
    "            flattened[flat_name] = scores[crit][level]\n",
    "    return flattened\n",
    "\n",
    "flatten_species_data(db_data[0])\n",
    "\n",
    "# let's save this for easier access later\n",
    "db_flattened_data = list(map(flatten_species_data, db_data))\n",
    "\n",
    "ETHO_OUTPUT_FP = os.path.join(ETHO_DIR, \"fishdb_flattened.json\")\n",
    "with open(ETHO_OUTPUT_FP, \"w\") as outfile:\n",
    "    json.dump(db_flattened_data, outfile)\n",
    "    \n",
    "db_df = pd.DataFrame(db_flattened_data)\n",
    "db_df.head()"
   ]
  }
 ],
 "metadata": {
  "kernelspec": {
   "display_name": "Python 3",
   "language": "python",
   "name": "python3"
  },
  "language_info": {
   "codemirror_mode": {
    "name": "ipython",
    "version": 3
   },
   "file_extension": ".py",
   "mimetype": "text/x-python",
   "name": "python",
   "nbconvert_exporter": "python",
   "pygments_lexer": "ipython3",
   "version": "3.7.4"
  }
 },
 "nbformat": 4,
 "nbformat_minor": 2
}
